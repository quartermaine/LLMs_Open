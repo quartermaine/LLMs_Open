{
  "nbformat": 4,
  "nbformat_minor": 0,
  "metadata": {
    "colab": {
      "provenance": [],
      "toc_visible": true,
      "authorship_tag": "ABX9TyME7EWXHhHVHRaLVHQJW3rO",
      "include_colab_link": true
    },
    "kernelspec": {
      "name": "python3",
      "display_name": "Python 3"
    },
    "language_info": {
      "name": "python"
    },
    "widgets": {
      "application/vnd.jupyter.widget-state+json": {
        "6cc63376bc6047c3809f8ef1a6f61115": {
          "model_module": "yfiles-jupyter-graphs",
          "model_name": "GraphModel",
          "model_module_version": "^1.7.2",
          "state": {
            "_context_pane_mapping": [
              {
                "id": "Neighborhood",
                "title": "Neighborhood"
              },
              {
                "id": "Data",
                "title": "Data"
              },
              {
                "id": "Search",
                "title": "Search"
              },
              {
                "id": "About",
                "title": "About"
              }
            ],
            "_data_importer": "neo4j",
            "_directed": true,
            "_dom_classes": [],
            "_edges": [
              {
                "id": 1152921504606847000,
                "start": 14,
                "end": 1007,
                "properties": {
                  "label": "RELEASED"
                },
                "label": "no role",
                "color": "#607D8B",
                "thickness_factor": 1,
                "directed": true
              },
              {
                "id": 1152922604118475800,
                "start": 1108,
                "end": 14,
                "properties": {
                  "label": "DIRECTED"
                },
                "label": "no role",
                "color": "#F44336",
                "thickness_factor": 1,
                "directed": true
              },
              {
                "id": 1152923703630104000,
                "start": 1658,
                "end": 14,
                "properties": {
                  "label": "ACTED_IN"
                },
                "label": "no role",
                "color": "#607D8B",
                "thickness_factor": 1,
                "directed": true
              },
              {
                "id": 1152923703630105000,
                "start": 2521,
                "end": 14,
                "properties": {
                  "label": "ACTED_IN"
                },
                "label": "no role",
                "color": "#607D8B",
                "thickness_factor": 1,
                "directed": true
              },
              {
                "id": 1152923703630105900,
                "start": 3363,
                "end": 14,
                "properties": {
                  "label": "ACTED_IN"
                },
                "label": "no role",
                "color": "#607D8B",
                "thickness_factor": 1,
                "directed": true
              },
              {
                "id": 1152923703630107000,
                "start": 4252,
                "end": 14,
                "properties": {
                  "label": "ACTED_IN"
                },
                "label": "no role",
                "color": "#607D8B",
                "thickness_factor": 1,
                "directed": true
              },
              {
                "id": 1152924803141730300,
                "start": 14,
                "end": 2314,
                "properties": {
                  "label": "BELONGS_TO"
                },
                "label": "no role",
                "color": "#673AB7",
                "thickness_factor": 1,
                "directed": true
              }
            ],
            "_graph_layout": {},
            "_highlight": [],
            "_license": {},
            "_model_module": "yfiles-jupyter-graphs",
            "_model_module_version": "^1.7.2",
            "_model_name": "GraphModel",
            "_neighborhood": {},
            "_nodes": [
              {
                "id": 14,
                "properties": {
                  "Series_Title": "The Matrix",
                  "label": "movies"
                },
                "color": "#2196F3",
                "styles": {},
                "label": "no label",
                "scale_factor": 1,
                "type": "#2196F3",
                "size": [
                  55,
                  55
                ],
                "position": [
                  0,
                  0
                ]
              },
              {
                "id": 1007,
                "properties": {
                  "Released_Year": 1999,
                  "label": "year"
                },
                "color": "#4CAF50",
                "styles": {},
                "label": "no label",
                "scale_factor": 1,
                "type": "#4CAF50",
                "size": [
                  55,
                  55
                ],
                "position": [
                  0,
                  0
                ]
              },
              {
                "id": 1108,
                "properties": {
                  "Director": "Lana Wachowski",
                  "label": "director"
                },
                "color": "#CDDC39",
                "styles": {},
                "label": "no label",
                "scale_factor": 1,
                "type": "#CDDC39",
                "size": [
                  55,
                  55
                ],
                "position": [
                  0,
                  0
                ]
              },
              {
                "id": 1658,
                "properties": {
                  "Star1": "Lilly Wachowski",
                  "label": "actor_1"
                },
                "color": "#9E9E9E",
                "styles": {},
                "label": "no label",
                "scale_factor": 1,
                "type": "#9E9E9E",
                "size": [
                  55,
                  55
                ],
                "position": [
                  0,
                  0
                ]
              },
              {
                "id": 2521,
                "properties": {
                  "Star2": "Keanu Reeves",
                  "label": "actor_2"
                },
                "color": "#9C27B0",
                "styles": {},
                "label": "no label",
                "scale_factor": 1,
                "type": "#9C27B0",
                "size": [
                  55,
                  55
                ],
                "position": [
                  0,
                  0
                ]
              },
              {
                "id": 3363,
                "properties": {
                  "Star3": "Laurence Fishburne",
                  "label": "actor_3"
                },
                "color": "#2196F3",
                "styles": {},
                "label": "no label",
                "scale_factor": 1,
                "type": "#2196F3",
                "size": [
                  55,
                  55
                ],
                "position": [
                  0,
                  0
                ]
              },
              {
                "id": 4252,
                "properties": {
                  "Star4": "Carrie-Anne Moss",
                  "label": "actor_4"
                },
                "color": "#4CAF50",
                "styles": {},
                "label": "no label",
                "scale_factor": 1,
                "type": "#4CAF50",
                "size": [
                  55,
                  55
                ],
                "position": [
                  0,
                  0
                ]
              },
              {
                "id": 2314,
                "properties": {
                  "Genre": "Action, Sci-Fi",
                  "label": "genre"
                },
                "color": "#F44336",
                "styles": {},
                "label": "no label",
                "scale_factor": 1,
                "type": "#F44336",
                "size": [
                  55,
                  55
                ],
                "position": [
                  0,
                  0
                ]
              }
            ],
            "_overview": {
              "enabled": null,
              "overview_set": false
            },
            "_selected_graph": [
              [
                {
                  "id": 2314,
                  "properties": {
                    "Genre": "Action, Sci-Fi",
                    "label": "genre"
                  }
                }
              ],
              []
            ],
            "_sidebar": {
              "enabled": true,
              "start_with": ""
            },
            "_view_count": null,
            "_view_module": "yfiles-jupyter-graphs",
            "_view_module_version": "^1.7.2",
            "_view_name": "GraphView",
            "layout": "IPY_MODEL_d9fc41a6cceb42c2ac3449da2618b9a6",
            "tabbable": null,
            "tooltip": null
          }
        },
        "d9fc41a6cceb42c2ac3449da2618b9a6": {
          "model_module": "@jupyter-widgets/base",
          "model_name": "LayoutModel",
          "model_module_version": "2.0.0",
          "state": {
            "_model_module": "@jupyter-widgets/base",
            "_model_module_version": "2.0.0",
            "_model_name": "LayoutModel",
            "_view_count": null,
            "_view_module": "@jupyter-widgets/base",
            "_view_module_version": "2.0.0",
            "_view_name": "LayoutView",
            "align_content": null,
            "align_items": null,
            "align_self": null,
            "border_bottom": null,
            "border_left": null,
            "border_right": null,
            "border_top": null,
            "bottom": null,
            "display": null,
            "flex": null,
            "flex_flow": null,
            "grid_area": null,
            "grid_auto_columns": null,
            "grid_auto_flow": null,
            "grid_auto_rows": null,
            "grid_column": null,
            "grid_gap": null,
            "grid_row": null,
            "grid_template_areas": null,
            "grid_template_columns": null,
            "grid_template_rows": null,
            "height": "500px",
            "justify_content": null,
            "justify_items": null,
            "left": null,
            "margin": null,
            "max_height": null,
            "max_width": null,
            "min_height": null,
            "min_width": null,
            "object_fit": null,
            "object_position": null,
            "order": null,
            "overflow": null,
            "padding": null,
            "right": null,
            "top": null,
            "visibility": null,
            "width": "100%"
          }
        },
        "79bbf8b3934743329163cdfb420bc1ae": {
          "model_module": "yfiles-jupyter-graphs",
          "model_name": "GraphModel",
          "model_module_version": "^1.7.2",
          "state": {
            "_context_pane_mapping": [
              {
                "id": "Neighborhood",
                "title": "Neighborhood"
              },
              {
                "id": "Data",
                "title": "Data"
              },
              {
                "id": "Search",
                "title": "Search"
              },
              {
                "id": "About",
                "title": "About"
              }
            ],
            "_data_importer": "neo4j",
            "_directed": true,
            "_dom_classes": [],
            "_edges": [
              {
                "id": 1152921504606847000,
                "start": 14,
                "end": 1007,
                "properties": {
                  "label": "RELEASED"
                },
                "label": "RELEASED",
                "color": "#607D8B",
                "thickness_factor": 1,
                "directed": true
              },
              {
                "id": 1152922604118475800,
                "start": 1108,
                "end": 14,
                "properties": {
                  "label": "DIRECTED"
                },
                "label": "DIRECTED",
                "color": "#F44336",
                "thickness_factor": 1,
                "directed": true
              },
              {
                "id": 1152923703630104000,
                "start": 1658,
                "end": 14,
                "properties": {
                  "label": "ACTED_IN"
                },
                "label": "ACTED_IN",
                "color": "#607D8B",
                "thickness_factor": 1,
                "directed": true
              },
              {
                "id": 1152923703630105000,
                "start": 2521,
                "end": 14,
                "properties": {
                  "label": "ACTED_IN"
                },
                "label": "ACTED_IN",
                "color": "#607D8B",
                "thickness_factor": 1,
                "directed": true
              },
              {
                "id": 1152923703630105900,
                "start": 3363,
                "end": 14,
                "properties": {
                  "label": "ACTED_IN"
                },
                "label": "ACTED_IN",
                "color": "#607D8B",
                "thickness_factor": 1,
                "directed": true
              },
              {
                "id": 1152923703630107000,
                "start": 4252,
                "end": 14,
                "properties": {
                  "label": "ACTED_IN"
                },
                "label": "ACTED_IN",
                "color": "#607D8B",
                "thickness_factor": 1,
                "directed": true
              },
              {
                "id": 1152924803141730300,
                "start": 14,
                "end": 2314,
                "properties": {
                  "label": "BELONGS_TO"
                },
                "label": "BELONGS_TO",
                "color": "#673AB7",
                "thickness_factor": 1,
                "directed": true
              }
            ],
            "_graph_layout": {},
            "_highlight": [],
            "_license": {},
            "_model_module": "yfiles-jupyter-graphs",
            "_model_module_version": "^1.7.2",
            "_model_name": "GraphModel",
            "_neighborhood": {},
            "_nodes": [
              {
                "id": 14,
                "properties": {
                  "Series_Title": "The Matrix",
                  "label": "movies"
                },
                "color": "#2196F3",
                "styles": {},
                "label": "movies",
                "scale_factor": 1,
                "type": "#2196F3",
                "size": [
                  55,
                  55
                ],
                "position": [
                  0,
                  0
                ]
              },
              {
                "id": 1007,
                "properties": {
                  "Released_Year": 1999,
                  "label": "year"
                },
                "color": "#4CAF50",
                "styles": {},
                "label": "year",
                "scale_factor": 1,
                "type": "#4CAF50",
                "size": [
                  55,
                  55
                ],
                "position": [
                  0,
                  0
                ]
              },
              {
                "id": 1108,
                "properties": {
                  "Director": "Lana Wachowski",
                  "label": "director"
                },
                "color": "#CDDC39",
                "styles": {},
                "label": "director",
                "scale_factor": 1,
                "type": "#CDDC39",
                "size": [
                  55,
                  55
                ],
                "position": [
                  0,
                  0
                ]
              },
              {
                "id": 1658,
                "properties": {
                  "Star1": "Lilly Wachowski",
                  "label": "actor_1"
                },
                "color": "#9E9E9E",
                "styles": {},
                "label": "actor_1",
                "scale_factor": 1,
                "type": "#9E9E9E",
                "size": [
                  55,
                  55
                ],
                "position": [
                  0,
                  0
                ]
              },
              {
                "id": 2521,
                "properties": {
                  "Star2": "Keanu Reeves",
                  "label": "actor_2"
                },
                "color": "#9C27B0",
                "styles": {},
                "label": "actor_2",
                "scale_factor": 1,
                "type": "#9C27B0",
                "size": [
                  55,
                  55
                ],
                "position": [
                  0,
                  0
                ]
              },
              {
                "id": 3363,
                "properties": {
                  "Star3": "Laurence Fishburne",
                  "label": "actor_3"
                },
                "color": "#2196F3",
                "styles": {},
                "label": "actor_3",
                "scale_factor": 1,
                "type": "#2196F3",
                "size": [
                  55,
                  55
                ],
                "position": [
                  0,
                  0
                ]
              },
              {
                "id": 4252,
                "properties": {
                  "Star4": "Carrie-Anne Moss",
                  "label": "actor_4"
                },
                "color": "#4CAF50",
                "styles": {},
                "label": "actor_4",
                "scale_factor": 1,
                "type": "#4CAF50",
                "size": [
                  55,
                  55
                ],
                "position": [
                  0,
                  0
                ]
              },
              {
                "id": 2314,
                "properties": {
                  "Genre": "Action, Sci-Fi",
                  "label": "genre"
                },
                "color": "#F44336",
                "styles": {},
                "label": "genre",
                "scale_factor": 1,
                "type": "#F44336",
                "size": [
                  55,
                  55
                ],
                "position": [
                  0,
                  0
                ]
              }
            ],
            "_overview": {
              "enabled": null,
              "overview_set": false
            },
            "_selected_graph": [
              [],
              []
            ],
            "_sidebar": {
              "enabled": true,
              "start_with": "About"
            },
            "_view_count": null,
            "_view_module": "yfiles-jupyter-graphs",
            "_view_module_version": "^1.7.2",
            "_view_name": "GraphView",
            "layout": "IPY_MODEL_569fa2d3066a458da6df74c4f5690f67",
            "tabbable": null,
            "tooltip": null
          }
        },
        "569fa2d3066a458da6df74c4f5690f67": {
          "model_module": "@jupyter-widgets/base",
          "model_name": "LayoutModel",
          "model_module_version": "2.0.0",
          "state": {
            "_model_module": "@jupyter-widgets/base",
            "_model_module_version": "2.0.0",
            "_model_name": "LayoutModel",
            "_view_count": null,
            "_view_module": "@jupyter-widgets/base",
            "_view_module_version": "2.0.0",
            "_view_name": "LayoutView",
            "align_content": null,
            "align_items": null,
            "align_self": null,
            "border_bottom": null,
            "border_left": null,
            "border_right": null,
            "border_top": null,
            "bottom": null,
            "display": null,
            "flex": null,
            "flex_flow": null,
            "grid_area": null,
            "grid_auto_columns": null,
            "grid_auto_flow": null,
            "grid_auto_rows": null,
            "grid_column": null,
            "grid_gap": null,
            "grid_row": null,
            "grid_template_areas": null,
            "grid_template_columns": null,
            "grid_template_rows": null,
            "height": "500px",
            "justify_content": null,
            "justify_items": null,
            "left": null,
            "margin": null,
            "max_height": null,
            "max_width": null,
            "min_height": null,
            "min_width": null,
            "object_fit": null,
            "object_position": null,
            "order": null,
            "overflow": null,
            "padding": null,
            "right": null,
            "top": null,
            "visibility": null,
            "width": "100%"
          }
        }
      }
    }
  },
  "cells": [
    {
      "cell_type": "markdown",
      "metadata": {
        "id": "view-in-github",
        "colab_type": "text"
      },
      "source": [
        "<a href=\"https://colab.research.google.com/github/quartermaine/LLMs_Open/blob/main/Neo4j_plot_v2.ipynb\" target=\"_parent\"><img src=\"https://colab.research.google.com/assets/colab-badge.svg\" alt=\"Open In Colab\"/></a>"
      ]
    },
    {
      "cell_type": "markdown",
      "source": [
        "# -- START NOTEBOOK"
      ],
      "metadata": {
        "id": "l1v6raHLvMAZ"
      }
    },
    {
      "cell_type": "markdown",
      "source": [
        "**Implementing a Query Chain for Interacting with a Neo4j Database**\n",
        "\n",
        "This notebook demonstrates a query chain designed to interact with a demo graph database hosted in Neo4j AuroraDB (see [here](#cell-id)). The goal is to retrieve natural language responses based on user queries and, when applicable, to construct and display a graph representing the query results.\n",
        "\n",
        "Key Features:\n",
        "\n",
        "- Natural Language Queries: Allows users to input queries to retrieve information from the Neo4j database.\n",
        "- Graph Visualization: Capable of generating and displaying graphs based on certain query responses that involve nodes and relationships.\n",
        "\n",
        "Technologies Used:\n",
        "\n",
        "- Neo4j Database: Utilizes a demo environment to showcase query capabilities and graph visualization.\n",
        "- Python and Cypher Queries: Integrates Python code with Cypher queries to execute database operations and retrieve structured data.\n",
        "- Azure OpenAI API: Enhances query capabilities and responses using advanced natural language understanding provided by Azure OpenAI.\n",
        "\n",
        "Environment Setup:\n",
        "Before running the notebook, define the following environment variables in the secrets section of your Google Colab notebook:\n",
        "\n",
        "- AZURE_OPENAI_API_KEY: Your Azure OpenAI API key.\n",
        "- AZURE_OPENAI_ENDPOINT: Your Azure OpenAI deployment endpoint URL.\n",
        "- Deployment Name: The name of your Azure OpenAI deployment.\n",
        "- OPENAI_API_TYPE: The type of API (for this notebook, it is \"azure\").\n",
        "- OPENAI_API_VERSION: The Azure OpenAI version.\n",
        "\n",
        "\n",
        "By setting up these environment variables, you ensure seamless integration and functionality of the query chain, which combines Neo4j database querying with LLMs capabilities from Azure OpenAI\n",
        "\n",
        "\n",
        "\n"
      ],
      "metadata": {
        "id": "An3wGn7LvXuf"
      }
    },
    {
      "cell_type": "markdown",
      "source": [
        "## Neo4j Cypher Chain"
      ],
      "metadata": {
        "id": "ujK2LbfHiTdO"
      }
    },
    {
      "cell_type": "code",
      "execution_count": null,
      "metadata": {
        "collapsed": true,
        "id": "Hwax8Jll0HGP",
        "cellView": "form"
      },
      "outputs": [],
      "source": [
        "#@title Install Libraries\n",
        "\n",
        "%%capture\n",
        "%pip install yfiles_jupyter_graphs --quiet\n",
        "%pip install neo4j --quiet\n",
        "%pip install langchain\n",
        "%pip install yfiles_jupyter_graphs_for_neo4j\n",
        "%pip install 'crewai[tools]'\n",
        "\n",
        "\n",
        "from neo4j import GraphDatabase\n",
        "from yfiles_jupyter_graphs import GraphWidget\n"
      ]
    },
    {
      "cell_type": "code",
      "source": [
        "#@title Import google custom manager\n",
        "\n",
        "try:\n",
        "  import google.colab\n",
        "  from google.colab import output\n",
        "  output.enable_custom_widget_manager()\n",
        "except:\n",
        "  pass\n"
      ],
      "metadata": {
        "id": "08IKxNZdoPrF",
        "cellView": "form"
      },
      "execution_count": null,
      "outputs": []
    },
    {
      "cell_type": "code",
      "source": [
        "#@title Create Neo4j connection class\n",
        "\n",
        "class Neo4jConnection:\n",
        "\n",
        "    def __init__(self, uri, user, pwd):\n",
        "        self.__uri = uri\n",
        "        self.__user = user\n",
        "        self.__pwd = pwd\n",
        "        self.__driver = None\n",
        "        try:\n",
        "            self.__driver = GraphDatabase.driver(self.__uri, auth=(self.__user, self.__pwd))\n",
        "        except Exception as e:\n",
        "            print(\"Failed to create the driver:\", e)\n",
        "\n",
        "    def close(self):\n",
        "        if self.__driver is not None:\n",
        "            self.__driver.close()\n",
        "\n",
        "    def query(self, query, parameters=None, db=None):\n",
        "        assert self.__driver is not None, \"Driver not initialized!\"\n",
        "        session = None\n",
        "        response = None\n",
        "        try:\n",
        "            session = self.__driver.session(database=db) if db is not None else self.__driver.session()\n",
        "            response = list(session.run(query, parameters))\n",
        "        except Exception as e:\n",
        "            print(\"Query failed:\", e)\n",
        "        finally:\n",
        "            if session is not None:\n",
        "                session.close()\n",
        "        return response\n",
        "\n",
        "    def get_schema(self):\n",
        "        node_labels_query = \"CALL db.labels()\"\n",
        "        relationship_types_query = \"CALL db.relationshipTypes()\"\n",
        "        property_keys_query = \"CALL db.propertyKeys()\"\n",
        "\n",
        "        node_labels = [record[\"label\"] for record in self.query(node_labels_query)]\n",
        "        relationship_types = [record[\"relationshipType\"] for record in self.query(relationship_types_query)]\n",
        "        property_keys = [record[\"propertyKey\"] for record in self.query(property_keys_query)]\n",
        "\n",
        "        self.structured_schema = {\n",
        "            \"node_labels\": node_labels,\n",
        "            \"relationship_types\": relationship_types,\n",
        "            \"property_keys\": property_keys\n",
        "        }\n",
        "\n",
        "        # print(\"Schema retrieved successfully: \", self.structured_schema)  # Debug statement\n",
        "\n",
        "        return self.structured_schema  # Return the schema\n"
      ],
      "metadata": {
        "cellView": "form",
        "id": "LwkZV3cjFZfY"
      },
      "execution_count": null,
      "outputs": []
    },
    {
      "cell_type": "code",
      "source": [
        "#@title Create Cypher chain\n",
        "# code reference https://neo4j.com/developer-blog/rag-cypher-vector-templates-langchain-agent/\n",
        "\n",
        "from langchain.chains.graph_qa.cypher_utils import CypherQueryCorrector, Schema\n",
        "from langchain.chat_models import AzureChatOpenAI\n",
        "from langchain.prompts import ChatPromptTemplate\n",
        "from langchain.pydantic_v1 import BaseModel\n",
        "from langchain.schema.output_parser import StrOutputParser\n",
        "from langchain.schema.runnable import RunnablePassthrough\n",
        "from langchain.tools import BaseTool\n",
        "from google.colab import userdata\n",
        "from typing import Type\n",
        "import json\n",
        "import os\n",
        "import re\n",
        "\n",
        "# Set AZ OpenAI credentials\n",
        "os.environ[\"OPENAI_API_VERSION\"] = userdata.get('OPENAI_API_VERSION') #\n",
        "os.environ[\"OPENAI_API_KEY\"] = userdata.get('AZURE_OPENAI_API_KEY') #\n",
        "os.environ[\"AZURE_OPENAI_ENDPOINT\"] = userdata.get('AZURE_OPENAI_ENDPOINT')\n",
        "os.environ[\"DEPLOYMENT_NAME\"] = userdata.get('DEPLOYMENT_NAME') #\n",
        "os.environ[\"MODEL_NAME\"] =  userdata.get('MODEL_NAME') #\n",
        "\n",
        "# Set Neo4j credentials\n",
        "os.environ[\"NEO4J_URI\"] = \"neo4j+s://607c7401.databases.neo4j.io\"\n",
        "os.environ[\"NEO4J_USERNAME\"] = \"neo4j\"\n",
        "os.environ[\"NEO4J_PASSWORD\"] = \"de1ncgZ_oR1GqeGZW5Q7IVeIkUF3sF3dVnmsn0c8-h0\"\n",
        "\n",
        "\n",
        "class Question(BaseModel):\n",
        "    question: str\n",
        "\n",
        "class CypherTool(BaseTool):\n",
        "    name = \"graph_tool\"\n",
        "    description = \"Useful Tool for retrieving structural, interconnected and relational knowledge\"\n",
        "    args_schema: Type[Question] = Question\n",
        "\n",
        "\n",
        "    def get_query(self, query):\n",
        "        # print(f'THE INITIAL QUERY IS: {query}\\n')\n",
        "        cypher_query = None\n",
        "        pattern = r'```cypher\\s*(.*?)\\s*```'\n",
        "        match = re.search(pattern, query, re.DOTALL)\n",
        "        if match:\n",
        "            cypher_query = match.group(1).strip()\n",
        "            # print(f\"Matched query is: {cypher_query}\")\n",
        "            return cypher_query\n",
        "        else:\n",
        "            # print(f\"Not matched query is: {query}\")\n",
        "            return query.strip()\n",
        "\n",
        "    def _run(self, question):\n",
        "        # Connection to Neo4j\n",
        "        graph = Neo4jConnection(\n",
        "            uri=os.getenv(\"NEO4J_URI\"),\n",
        "            user=os.getenv(\"NEO4J_USERNAME\"),\n",
        "            pwd=os.getenv(\"NEO4J_PASSWORD\")\n",
        "        )\n",
        "\n",
        "        # Retrieve the schema\n",
        "        schema = graph.get_schema()\n",
        "        if not schema:\n",
        "            raise ValueError(\"Failed to retrieve schema.\")\n",
        "\n",
        "        # print(\"Structured schema: \", schema)  # Debug statement\n",
        "\n",
        "        # Cypher validation tool for relationship directions\n",
        "        corrector_schema = [\n",
        "            Schema(\"\", rel_type, \"\")\n",
        "            for rel_type in schema.get(\"relationship_types\", [])\n",
        "        ]\n",
        "\n",
        "        cypher_validation = CypherQueryCorrector(corrector_schema)\n",
        "\n",
        "        # LLMs\n",
        "        llm_az = AzureChatOpenAI(\n",
        "            model=os.environ.get(\"MODEL_NAME\"),\n",
        "            deployment_name=os.environ.get(\"DEPLOYMENT_NAME\"),\n",
        "        )\n",
        "        cypher_llm = llm_az\n",
        "        qa_llm = llm_az\n",
        "\n",
        "        # Generate Cypher statement based on natural language input\n",
        "        cypher_template = \"\"\"This is important for my career.\n",
        "        Based on the Neo4j graph schema below, write a Cypher query that would answer the user's question:\n",
        "        {schema}\n",
        "\n",
        "        Question: {question}\n",
        "        Cypher query:\"\"\"\n",
        "\n",
        "        cypher_prompt = ChatPromptTemplate.from_messages(\n",
        "            [\n",
        "                (\n",
        "                    \"system\",\n",
        "                    \"Given an input question, convert it to a Cypher query. No pre-amble.\",\n",
        "                ),\n",
        "                (\"human\", cypher_template),\n",
        "            ]\n",
        "        )\n",
        "\n",
        "        cypher_response = (\n",
        "            RunnablePassthrough.assign(schema=lambda _: schema)\n",
        "            | cypher_prompt\n",
        "            | cypher_llm.bind(stop=[\"\\nCypherResult:\"])\n",
        "            | StrOutputParser()\n",
        "        )\n",
        "\n",
        "        # Generate natural language response based on database results\n",
        "        response_template = \"\"\"Based on the the question, Cypher query, and Cypher response, write a natural language response:\n",
        "        Question: {question}\n",
        "        Cypher query: {query}\n",
        "        Cypher Response: {response}\"\"\"\n",
        "\n",
        "        response_prompt = ChatPromptTemplate.from_messages(\n",
        "            [\n",
        "                (\n",
        "                    \"system\",\n",
        "                    \"Given an input question and Cypher response, convert it to a \"\n",
        "                    \"natural language answer. No pre-amble.\",\n",
        "                ),\n",
        "                (\"human\", response_template),\n",
        "            ]\n",
        "        )\n",
        "\n",
        "        chain = (\n",
        "            RunnablePassthrough.assign(query=cypher_response)\n",
        "            | RunnablePassthrough.assign(\n",
        "                response=lambda x: graph.query(self.get_query(x[\"query\"])), # cypher validator has been removed\n",
        "                                                                            # as not returning correct output\n",
        "            )\n",
        "            | RunnablePassthrough.assign(\n",
        "                output=response_prompt | qa_llm | StrOutputParser(),\n",
        "            )\n",
        "        ).with_types(input_type=Question)\n",
        "\n",
        "        return (\n",
        "            chain.invoke({\"question\": question})\n",
        "        )\n"
      ],
      "metadata": {
        "cellView": "form",
        "id": "IpFSmh4ZBsc_"
      },
      "execution_count": null,
      "outputs": []
    },
    {
      "cell_type": "code",
      "source": [
        "#@title Run query chain\n",
        "\n",
        "# Initialize and use the tool\n",
        "cypher_tool = CypherTool()\n",
        "# result = cypher_tool.run('Which is the director and the actors in the movie \"The Matrix\"') # cypher code no graph output\n",
        "result = cypher_tool.run('What are the nodes, relationships, labels and directions in the movie \"The Matrix\"') # cypher code graph output\n",
        "# result = cypher_tool.run('What are the movies, in which the actor \"Keanu Reeves\" has played?') # cypher code no graph output\n"
      ],
      "metadata": {
        "cellView": "form",
        "id": "df-L7-r-FrkD"
      },
      "execution_count": null,
      "outputs": []
    },
    {
      "cell_type": "code",
      "source": [
        "#@title Print the chain output\n",
        "\n",
        "def convert_to_serializable(record):\n",
        "    def serialize(value):\n",
        "        if isinstance(value, (set, frozenset)):\n",
        "            return list(value)\n",
        "        elif isinstance(value, dict):\n",
        "            return {k: serialize(v) for k, v in value.items()}\n",
        "        elif isinstance(value, list):\n",
        "            return [serialize(item) for item in value]\n",
        "        elif hasattr(value, 'keys') and hasattr(value, '__getitem__'):\n",
        "            return dict(value)\n",
        "        else:\n",
        "            return value\n",
        "\n",
        "    serializable_record = {}\n",
        "\n",
        "    for key, value in record.items():\n",
        "        serializable_record[key] = serialize(value)\n",
        "\n",
        "    return serializable_record\n",
        "\n",
        "# Convert Neo4j-specific objects to serializable dictionaries\n",
        "serializable_response = [convert_to_serializable(record) for record in result['response']]\n",
        "\n",
        "# Replace the original response with the serializable version\n",
        "result['response'] = serializable_response\n",
        "\n",
        "# Pretty print the result\n",
        "pretty_result = json.dumps(result, indent=4)\n",
        "print(pretty_result)\n"
      ],
      "metadata": {
        "colab": {
          "base_uri": "https://localhost:8080/"
        },
        "cellView": "form",
        "id": "t4ef1YVdrxoH",
        "outputId": "6ea31483-cc83-414f-d3e0-6d0e623011cc"
      },
      "execution_count": null,
      "outputs": [
        {
          "output_type": "stream",
          "name": "stdout",
          "text": [
            "{\n",
            "    \"question\": \"What are the nodes, relationships, labels and directions in the movie \\\"The Matrix\\\"\",\n",
            "    \"query\": \"```cypher\\nMATCH (m:movies {Series_Title: \\\"The Matrix\\\"})-[r]-(n)\\nRETURN m, r, n, labels(m), labels(n), type(r), startNode(r), endNode(r)\\n```\",\n",
            "    \"response\": [\n",
            "        {\n",
            "            \"m\": {\n",
            "                \"Series_Title\": \"The Matrix\"\n",
            "            },\n",
            "            \"r\": {},\n",
            "            \"n\": {\n",
            "                \"Released_Year\": 1999\n",
            "            },\n",
            "            \"labels(m)\": [\n",
            "                \"movies\"\n",
            "            ],\n",
            "            \"labels(n)\": [\n",
            "                \"year\"\n",
            "            ],\n",
            "            \"type(r)\": \"RELEASED\",\n",
            "            \"startNode(r)\": {\n",
            "                \"Series_Title\": \"The Matrix\"\n",
            "            },\n",
            "            \"endNode(r)\": {\n",
            "                \"Released_Year\": 1999\n",
            "            }\n",
            "        },\n",
            "        {\n",
            "            \"m\": {\n",
            "                \"Series_Title\": \"The Matrix\"\n",
            "            },\n",
            "            \"r\": {},\n",
            "            \"n\": {\n",
            "                \"Director\": \"Lana Wachowski\"\n",
            "            },\n",
            "            \"labels(m)\": [\n",
            "                \"movies\"\n",
            "            ],\n",
            "            \"labels(n)\": [\n",
            "                \"director\"\n",
            "            ],\n",
            "            \"type(r)\": \"DIRECTED\",\n",
            "            \"startNode(r)\": {\n",
            "                \"Director\": \"Lana Wachowski\"\n",
            "            },\n",
            "            \"endNode(r)\": {\n",
            "                \"Series_Title\": \"The Matrix\"\n",
            "            }\n",
            "        },\n",
            "        {\n",
            "            \"m\": {\n",
            "                \"Series_Title\": \"The Matrix\"\n",
            "            },\n",
            "            \"r\": {},\n",
            "            \"n\": {\n",
            "                \"Star1\": \"Lilly Wachowski\"\n",
            "            },\n",
            "            \"labels(m)\": [\n",
            "                \"movies\"\n",
            "            ],\n",
            "            \"labels(n)\": [\n",
            "                \"actor_1\"\n",
            "            ],\n",
            "            \"type(r)\": \"ACTED_IN\",\n",
            "            \"startNode(r)\": {\n",
            "                \"Star1\": \"Lilly Wachowski\"\n",
            "            },\n",
            "            \"endNode(r)\": {\n",
            "                \"Series_Title\": \"The Matrix\"\n",
            "            }\n",
            "        },\n",
            "        {\n",
            "            \"m\": {\n",
            "                \"Series_Title\": \"The Matrix\"\n",
            "            },\n",
            "            \"r\": {},\n",
            "            \"n\": {\n",
            "                \"Star2\": \"Keanu Reeves\"\n",
            "            },\n",
            "            \"labels(m)\": [\n",
            "                \"movies\"\n",
            "            ],\n",
            "            \"labels(n)\": [\n",
            "                \"actor_2\"\n",
            "            ],\n",
            "            \"type(r)\": \"ACTED_IN\",\n",
            "            \"startNode(r)\": {\n",
            "                \"Star2\": \"Keanu Reeves\"\n",
            "            },\n",
            "            \"endNode(r)\": {\n",
            "                \"Series_Title\": \"The Matrix\"\n",
            "            }\n",
            "        },\n",
            "        {\n",
            "            \"m\": {\n",
            "                \"Series_Title\": \"The Matrix\"\n",
            "            },\n",
            "            \"r\": {},\n",
            "            \"n\": {\n",
            "                \"Star3\": \"Laurence Fishburne\"\n",
            "            },\n",
            "            \"labels(m)\": [\n",
            "                \"movies\"\n",
            "            ],\n",
            "            \"labels(n)\": [\n",
            "                \"actor_3\"\n",
            "            ],\n",
            "            \"type(r)\": \"ACTED_IN\",\n",
            "            \"startNode(r)\": {\n",
            "                \"Star3\": \"Laurence Fishburne\"\n",
            "            },\n",
            "            \"endNode(r)\": {\n",
            "                \"Series_Title\": \"The Matrix\"\n",
            "            }\n",
            "        },\n",
            "        {\n",
            "            \"m\": {\n",
            "                \"Series_Title\": \"The Matrix\"\n",
            "            },\n",
            "            \"r\": {},\n",
            "            \"n\": {\n",
            "                \"Star4\": \"Carrie-Anne Moss\"\n",
            "            },\n",
            "            \"labels(m)\": [\n",
            "                \"movies\"\n",
            "            ],\n",
            "            \"labels(n)\": [\n",
            "                \"actor_4\"\n",
            "            ],\n",
            "            \"type(r)\": \"ACTED_IN\",\n",
            "            \"startNode(r)\": {\n",
            "                \"Star4\": \"Carrie-Anne Moss\"\n",
            "            },\n",
            "            \"endNode(r)\": {\n",
            "                \"Series_Title\": \"The Matrix\"\n",
            "            }\n",
            "        },\n",
            "        {\n",
            "            \"m\": {\n",
            "                \"Series_Title\": \"The Matrix\"\n",
            "            },\n",
            "            \"r\": {},\n",
            "            \"n\": {\n",
            "                \"Genre\": \"Action, Sci-Fi\"\n",
            "            },\n",
            "            \"labels(m)\": [\n",
            "                \"movies\"\n",
            "            ],\n",
            "            \"labels(n)\": [\n",
            "                \"genre\"\n",
            "            ],\n",
            "            \"type(r)\": \"BELONGS_TO\",\n",
            "            \"startNode(r)\": {\n",
            "                \"Series_Title\": \"The Matrix\"\n",
            "            },\n",
            "            \"endNode(r)\": {\n",
            "                \"Genre\": \"Action, Sci-Fi\"\n",
            "            }\n",
            "        }\n",
            "    ],\n",
            "    \"output\": \"The movie \\\"The Matrix\\\" is associated with the following nodes, relationships, labels, and directions:\\n\\n1. Node: \\\"The Matrix\\\" (label: movies)\\n   - Relationship: RELEASED\\n   - Connected Node: Released Year 1999 (label: year)\\n   - Direction: \\\"The Matrix\\\" -> Released Year 1999\\n\\n2. Node: \\\"The Matrix\\\" (label: movies)\\n   - Relationship: DIRECTED\\n   - Connected Node: Director Lana Wachowski (label: director)\\n   - Direction: Lana Wachowski -> \\\"The Matrix\\\"\\n\\n3. Node: \\\"The Matrix\\\" (label: movies)\\n   - Relationship: ACTED_IN\\n   - Connected Node: Actor Lilly Wachowski (label: actor_1)\\n   - Direction: Lilly Wachowski -> \\\"The Matrix\\\"\\n\\n4. Node: \\\"The Matrix\\\" (label: movies)\\n   - Relationship: ACTED_IN\\n   - Connected Node: Actor Keanu Reeves (label: actor_2)\\n   - Direction: Keanu Reeves -> \\\"The Matrix\\\"\\n\\n5. Node: \\\"The Matrix\\\" (label: movies)\\n   - Relationship: ACTED_IN\\n   - Connected Node: Actor Laurence Fishburne (label: actor_3)\\n   - Direction: Laurence Fishburne -> \\\"The Matrix\\\"\\n\\n6. Node: \\\"The Matrix\\\" (label: movies)\\n   - Relationship: ACTED_IN\\n   - Connected Node: Actor Carrie-Anne Moss (label: actor_4)\\n   - Direction: Carrie-Anne Moss -> \\\"The Matrix\\\"\\n\\n7. Node: \\\"The Matrix\\\" (label: movies)\\n   - Relationship: BELONGS_TO\\n   - Connected Node: Genre Action, Sci-Fi (label: genre)\\n   - Direction: \\\"The Matrix\\\" -> Action, Sci-Fi\"\n",
            "}\n"
          ]
        }
      ]
    },
    {
      "cell_type": "code",
      "source": [
        "#@title Print the generated cypher code\n",
        "\n",
        "print(f\" The generated cypher code is: \\n\\n {result['query']}\")\n"
      ],
      "metadata": {
        "colab": {
          "base_uri": "https://localhost:8080/"
        },
        "cellView": "form",
        "id": "GAfHbVR7I-bm",
        "outputId": "927d352f-01e4-48d7-8f6e-bf299fc2ec18"
      },
      "execution_count": null,
      "outputs": [
        {
          "output_type": "stream",
          "name": "stdout",
          "text": [
            " The generated cypher code is: \n",
            "\n",
            " ```cypher\n",
            "MATCH (m:movies {Series_Title: \"The Matrix\"})-[r]-(n)\n",
            "RETURN m, r, n, labels(m), labels(n), type(r), startNode(r), endNode(r)\n",
            "```\n"
          ]
        }
      ]
    },
    {
      "cell_type": "code",
      "source": [
        "#@title Get the clean cypher code\n",
        "\n",
        "import re\n",
        "\n",
        "# print(result)\n",
        "\n",
        "# Define a regular expression to match the Cypher code\n",
        "pattern = re.compile(r'```cypher\\n(.*?)\\n```', re.DOTALL)\n",
        "\n",
        "# Search for the pattern in the text\n",
        "match = pattern.match(result['query'])\n",
        "\n",
        "# Extract the Cypher code if found\n",
        "if match:\n",
        "    cypher_code = match.group(1).strip()\n",
        "    print(\"Extracted Cypher Code:\\n\\n\", cypher_code)\n",
        "else:\n",
        "  cypher_code = None\n",
        "  print(\"No Cypher code found.\")\n"
      ],
      "metadata": {
        "colab": {
          "base_uri": "https://localhost:8080/"
        },
        "id": "M6TgxBkfjsho",
        "outputId": "d9f94433-1f6b-49bf-f4aa-c5a0cdc1d992",
        "cellView": "form"
      },
      "execution_count": null,
      "outputs": [
        {
          "output_type": "stream",
          "name": "stdout",
          "text": [
            "Extracted Cypher Code:\n",
            "\n",
            " MATCH (m:movies {Series_Title: \"The Matrix\"})-[r]-(n)\n",
            "RETURN m, r, n, labels(m), labels(n), type(r), startNode(r), endNode(r)\n"
          ]
        }
      ]
    },
    {
      "cell_type": "code",
      "source": [
        "#@title Create neo4j plot #1\n",
        "\n",
        "# create a neo4j session to run queries\n",
        "driver = GraphDatabase.driver(uri = os.getenv('NEO4J_URI'),\n",
        "                              auth = (\n",
        "                                  os.getenv('NEO4J_USERNAME'),\n",
        "                                  os.getenv('NEO4J_PASSWORD')\n",
        "                                  ),\n",
        "                              database = 'neo4j'\n",
        "                              )\n",
        "session = driver.session()\n",
        "\n",
        "w2 = GraphWidget(graph = session.run(cypher_code).graph())\n",
        "\n",
        "def custom_node_label_mapping(index, node):\n",
        "    \"\"\"let the label be the name or the title\"\"\"\n",
        "    properties = node.get('properties', {})\n",
        "    return properties.get('title', properties.get('name', 'no label'));\n",
        "\n",
        "def custom_relationship_label_mapping(index, node):\n",
        "    \"\"\"let the label be the role\"\"\"\n",
        "    properties = node.get('properties', {})\n",
        "    return properties.get('roles', ['no role'])[0];\n",
        "\n",
        "w2.node_label_mapping = custom_node_label_mapping\n",
        "w2.edge_label_mapping = custom_relationship_label_mapping\n",
        "\n",
        "# w2.hierarchic_layout()\n",
        "display(w2)\n"
      ],
      "metadata": {
        "colab": {
          "base_uri": "https://localhost:8080/",
          "height": 517,
          "referenced_widgets": [
            "6cc63376bc6047c3809f8ef1a6f61115",
            "d9fc41a6cceb42c2ac3449da2618b9a6"
          ]
        },
        "cellView": "form",
        "id": "5CpSNajbe0M4",
        "outputId": "68a2fee1-6beb-4a5a-f320-428e354cbf20"
      },
      "execution_count": null,
      "outputs": [
        {
          "output_type": "display_data",
          "data": {
            "text/plain": [
              "GraphWidget(layout=Layout(height='500px', width='100%'))"
            ],
            "application/vnd.jupyter.widget-view+json": {
              "version_major": 2,
              "version_minor": 0,
              "model_id": "6cc63376bc6047c3809f8ef1a6f61115"
            }
          },
          "metadata": {
            "application/vnd.jupyter.widget-view+json": {
              "colab": {
                "custom_widget_manager": {
                  "url": "https://ssl.gstatic.com/colaboratory-static/widgets/colab-cdn-widget-manager/2b70e893a8ba7c0f/manager.min.js"
                }
              }
            }
          }
        }
      ]
    },
    {
      "cell_type": "code",
      "source": [
        "#@title Create neo4j plot #2\n",
        "\n",
        "from yfiles_jupyter_graphs_for_neo4j import Neo4jGraphWidget\n",
        "from neo4j import GraphDatabase\n",
        "\n",
        "g = Neo4jGraphWidget(driver)\n",
        "\n",
        "g.show_cypher(cypher_code)\n"
      ],
      "metadata": {
        "colab": {
          "base_uri": "https://localhost:8080/",
          "height": 517,
          "referenced_widgets": [
            "79bbf8b3934743329163cdfb420bc1ae",
            "569fa2d3066a458da6df74c4f5690f67"
          ]
        },
        "cellView": "form",
        "id": "scy-lclND_K6",
        "outputId": "8b8f9d8c-1ed5-433b-a406-5cff05986e09"
      },
      "execution_count": null,
      "outputs": [
        {
          "output_type": "display_data",
          "data": {
            "text/plain": [
              "GraphWidget(layout=Layout(height='500px', width='100%'))"
            ],
            "application/vnd.jupyter.widget-view+json": {
              "version_major": 2,
              "version_minor": 0,
              "model_id": "79bbf8b3934743329163cdfb420bc1ae"
            }
          },
          "metadata": {
            "application/vnd.jupyter.widget-view+json": {
              "colab": {
                "custom_widget_manager": {
                  "url": "https://ssl.gstatic.com/colaboratory-static/widgets/colab-cdn-widget-manager/2b70e893a8ba7c0f/manager.min.js"
                }
              }
            }
          }
        }
      ]
    },
    {
      "cell_type": "markdown",
      "source": [
        "## Agent (To be implemeted)"
      ],
      "metadata": {
        "id": "-1U7NgpniJsN"
      }
    },
    {
      "cell_type": "code",
      "source": [
        "#@title Import Libraries\n",
        "\n",
        "# import os\n",
        "# from crewai import Agent, Task, Crew, Process\n",
        "# from langchain.chains.graph_qa.cypher_utils import CypherQueryCorrector, Schema\n",
        "# from textwrap import dedent\n",
        "\n",
        "# # Set up API keys"
      ],
      "metadata": {
        "id": "VsVPPnCj0cto",
        "cellView": "form"
      },
      "execution_count": null,
      "outputs": []
    },
    {
      "cell_type": "code",
      "source": [
        "#@title Create agent tasks\n",
        "\n",
        "# class CypherTasks:\n",
        "#     def code_creator(self, agent, schema):\n",
        "#       return Task(description=dedent(f\"\"\"\n",
        "#          Based on the Neo4j graph schema below, write a Cypher query that would answer the user's question:\n",
        "#         {schema}\n",
        "#         Retrurn the Cypher query with no additional comments.\n",
        "#         Question: question\n",
        "#         Cypher query:\n",
        "#         \"\"\"),\n",
        "#         expected_output=dedent(f\"\"\"\n",
        "#             Cypher Code that answers the question\n",
        "#         \"\"\"),\n",
        "#         agent=agent\n",
        "#         )\n",
        "\n",
        "#     def code_validator(self, agent,):\n",
        "#       return Task(description=dedent(f\"\"\"\n",
        "#             Your task is to validate the following Cypher code:\n",
        "#             from {self.code_creator}\n",
        "#         \"\"\"),\n",
        "#         expected_output=dedent(f\"\"\"\n",
        "#             Validated Cypher Code\n",
        "#         \"\"\"),\n",
        "#         agent=agent\n",
        "#         )"
      ],
      "metadata": {
        "id": "nfcPNy81Wjal",
        "cellView": "form"
      },
      "execution_count": null,
      "outputs": []
    },
    {
      "cell_type": "code",
      "source": [
        "#@title Create agent goals\n",
        "\n",
        "# from google.colab import userdata\n",
        "# from langchain_openai import AzureChatOpenAI\n",
        "\n",
        "# os.environ[\"OPENAI_API_VERSION\"] = userdata.get('OPENAI_API_VERSION') #\n",
        "# os.environ[\"OPENAI_API_KEY\"] = userdata.get('AZURE_OPENAI_API_KEY') #\n",
        "# os.environ[\"AZURE_OPENAI_ENDPOINT\"] = userdata.get('AZURE_OPENAI_ENDPOINT')\n",
        "# os.environ[\"DEPLOYMENT_NAME\"] = userdata.get('DEPLOYMENT_NAME') #\n",
        "# os.environ[\"MODEL_NAME\"] =  userdata.get('MODEL_NAME') #\n",
        "# os.environ['GROQ_API_KEY'] =  userdata.get('GROQ_API_KEY') #\n",
        "\n",
        "\n",
        "# class CyperAgents:\n",
        "#     def __init__(self):\n",
        "#         print(\"Initializing DataAnalysisAgents...\")\n",
        "\n",
        "#         self.llm_az = AzureChatOpenAI(\n",
        "#             model=os.environ.get(\"MODEL_NAME\"),\n",
        "#             deployment_name=os.environ.get(\"DEPLOYMENT_NAME\"),\n",
        "#         )\n",
        "\n",
        "#         # Print statements to verify LLM initialization\n",
        "#         # print(f\"Azure LLM: {self.llm_az}\")\n",
        "#         # print(f\"Phi3 LLM: {self.llm_phi3}\")\n",
        "#         # print(f\"Llama3 LLM: {self.llm_llama3}\")\n",
        "#         # print(f\"OpenHermes LLM: {self.llm_openhermes}\")\n",
        "#         # print(f\"ChatGroq LLM: {self.llm_crewai}\")\n",
        "\n",
        "#     def get_model(self,):\n",
        "\n",
        "#         return self.llm_az\n",
        "\n",
        "\n",
        "#     def code_agent(self, ):\n",
        "\n",
        "#         print('---> init code generation agent')\n",
        "#         return Agent(\n",
        "#             role=\"Cypher Code Creation Agent\",\n",
        "#             goal=dedent(\"\"\"\n",
        "#                 Analyze the schema and provide a code in Cypher in order to\n",
        "#                 create a graph\n",
        "#             \"\"\"),\n",
        "#             backstory=dedent(\"\"\"\n",
        "#                 As a professional in cypher code creation generate code to\n",
        "#                 run on a neo4j db.\n",
        "#             \"\"\"),\n",
        "#             llm=self.llm_az,\n",
        "#             verbose=True\n",
        "#         )\n",
        "\n",
        "#     def validation_agent(self, ):\n",
        "\n",
        "#         print('---> init code validation agent')\n",
        "#         return Agent(\n",
        "#             role=\"Cypher code validator\",\n",
        "#             goal=dedent(f\"\"\"\n",
        "#                 Validate the code from the result of {self.code_agent}\n",
        "\n",
        "#             \"\"\"),\n",
        "#             backstory=dedent(\"\"\"\n",
        "#                 Validate if the generated code is correct.\n",
        "#             \"\"\"),\n",
        "#             llm=self.llm_az,\n",
        "#             # tools=[CypherQueryCorrector],\n",
        "#             verbose=True\n",
        "#         )\n"
      ],
      "metadata": {
        "id": "hGrUxF5A0cwA",
        "cellView": "form"
      },
      "execution_count": null,
      "outputs": []
    },
    {
      "cell_type": "code",
      "source": [
        "#@title Create Crew\n",
        "\n",
        "# tasks = CypherTasks()\n",
        "# agents = CyperAgents()\n",
        "\n",
        "# print('*************************************')\n",
        "# print(\"* Welcome to the Data analysis Crew *\")\n",
        "# print('*************************************')\n",
        "\n",
        "# # Create Agents\n",
        "# print('--> Init Agents')\n",
        "# code_gen_agent = agents.code_agent()\n",
        "# code_val_agent = agents.validation_agent()\n",
        "# # plot_agent = agents.plot_creator_agent()\n",
        "\n",
        "# # Create Tasks\n",
        "# print('--> Init Tasks')\n",
        "# code_gen_task = tasks.code_creator(code_gen_agent,schema )\n",
        "# code_val_task = tasks.code_validator(code_val_agent)\n",
        "# # plot_creation = tasks.plot_creation(plot_agent, data)\n",
        "# print('--> Init model')\n",
        "# llm_choice = agents.get_model()\n",
        "\n",
        "# # Create Crew plot\n",
        "# print('--> Create Crew')\n",
        "# crew = Crew(\n",
        "#     agents=[\n",
        "#         code_gen_agent,\n",
        "#         code_val_agent,\n",
        "#         # plot_agent\n",
        "#         ],\n",
        "#     tasks=[\n",
        "#         code_gen_task,\n",
        "#         code_val_task,\n",
        "#         # plot_creation\n",
        "#         ],\n",
        "#     manager_llm=llm_choice,\n",
        "#     process=Process.hierarchical,\n",
        "#     verbose=True\n",
        "#     )\n",
        "\n",
        "# result = crew.kickoff()\n",
        "\n",
        "# # Print results\n",
        "# print(\"\\n\\n########################\")\n",
        "# print(\"## Here is the result ##\")\n",
        "# print(\"########################\\n\")\n",
        "# print(\"\\n\\nThe resulting code is:\")\n",
        "# print(result)\n"
      ],
      "metadata": {
        "id": "-Nc8gzju0cyi",
        "cellView": "form"
      },
      "execution_count": null,
      "outputs": []
    },
    {
      "cell_type": "markdown",
      "source": [
        "<a name=\"cell-id\"></a>\n",
        "\n",
        "## Neo4j AuraDB\n",
        "\n",
        "Neo4j AuraDB is a cloud service that enables you to create and manage graph databases. Follow these steps to set the database:\n",
        "\n",
        "- Create a Free Account on Neo4j AuraDB:\n",
        "\n",
        "   - Visit the Neo4j AuraDB website and sign up for a free account.\n",
        "- Create a Free Instance:\n",
        "\n",
        "    - After logging in, create a free instance to host your graph database. Make sure to securely store the password and connection string, as you will need these details later.\n",
        "    - Insert the connection string and password into the 'Create Cypher Chain' cell in the notebook.\n",
        "- Download the Data File:\n",
        "\n",
        "    - Download the [csv file](https://github.com/ibiscp/LLM-IMDB/blob/main/data/imdb_top_1000.csv)  containing the data used to create the database.\n",
        "-Import the CSV File and Create Nodes and Relationships:\n",
        "\n",
        "    - Using the connection details from your Neo4j AuraDB instance, import the CSV file and create the specified nodes and relationships to build the graph database.\n",
        "\n",
        "       - Nodes:\n",
        "\n",
        "          - movie: Properties - Series_Title\n",
        "          - director: Properties - Director\n",
        "          - genre: Properties - Genre\n",
        "          - year: Properties - Released_year\n",
        "          - actor_1: Properties - Star1\n",
        "          - actor_2: Properties - Star2\n",
        "          - actor_3: Properties - Star3\n",
        "          - actor_4: Properties - Star4\n",
        "\n",
        "       - Relationships:\n",
        "           - RELEASED: Between director:Director and movies:Series_Title\n",
        "           - ACTED_IN: Between actor_(1-4): Star(1-4) and movies:Series_Title\n",
        "           - BELONGS_TO: Between movie:Series_Title and genre:Genre\n",
        "\n",
        "![image.png](data:image/png;base64,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)\n",
        "\n"
      ],
      "metadata": {
        "id": "W9mnOk86yOK8"
      }
    },
    {
      "cell_type": "markdown",
      "source": [
        "## Resources\n",
        "\n",
        "\n",
        "- https://python.langchain.com/v0.2/docs/tutorials/graph/\n",
        "\n",
        "- https://python.langchain.com/v0.2/docs/integrations/graphs/neo4j_cypher/\n",
        "\n",
        "- https://python.langchain.com/v0.2/docs/integrations/providers/neo4j/\n",
        "\n",
        "- https://github.com/yWorks/yfiles-jupyter-graphs?tab=readme-ov-file\n",
        "\n",
        "- https://colab.research.google.com/github/yWorks/yfiles-jupyter-graphs/blob/main/examples/16_neo4j_import.ipynb#scrollTo=ac965084-deff-4721-9afe-c7319f1f5579\n",
        "\n",
        "- https://colab.research.google.com/drive/1J9__HotNoINHpucoipLH-4qWc48GALAk?usp=sharing#scrollTo=guXxJj1nBZMe\n",
        "\n",
        "- https://docs.crewai.com/core-concepts/Tools/\n",
        "\n",
        "- https://demo.neo4jlabs.com:7473/browser/ (neo4j environment to see the demo movies db)\n",
        "\n",
        "- https://neo4j.com/labs/genai-ecosystem/langchain/#_cypherqachain\n",
        "\n",
        "- https://neo4j.com/developer-blog/rag-cypher-vector-templates-langchain-agent/\n"
      ],
      "metadata": {
        "id": "1nNpjcehik1v"
      }
    },
    {
      "cell_type": "markdown",
      "source": [
        "# -- END NOTEBOOK"
      ],
      "metadata": {
        "id": "ry33GsM5vSb4"
      }
    }
  ]
}